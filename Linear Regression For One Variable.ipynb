{
 "cells": [
  {
   "cell_type": "markdown",
   "id": "3517c80a",
   "metadata": {},
   "source": [
    "# This NoteBook Discuss Linear Regression For one Variable Step by Step"
   ]
  },
  {
   "cell_type": "markdown",
   "id": "065edeab",
   "metadata": {},
   "source": [
    "-----------------------------------------------------------------------------------------------------------------------\n"
   ]
  },
  {
   "cell_type": "markdown",
   "id": "07437b03",
   "metadata": {},
   "source": [
    "## 1 - importing The important Libraries"
   ]
  },
  {
   "cell_type": "code",
   "execution_count": 1,
   "id": "9fdb32a2",
   "metadata": {},
   "outputs": [],
   "source": [
    "import numpy as np                #  --> using For mathematical operations\n",
    "import pandas as pd               #  -->  using To handle dataset\n",
    "import matplotlib.pyplot as plt   #  -->  using To create graphics"
   ]
  },
  {
   "cell_type": "markdown",
   "id": "495d2860",
   "metadata": {},
   "source": [
    "## 2- importing The Dataset"
   ]
  },
  {
   "cell_type": "code",
   "execution_count": 2,
   "id": "c33425f8",
   "metadata": {
    "scrolled": false
   },
   "outputs": [
    {
     "data": {
      "text/html": [
       "<div>\n",
       "<style scoped>\n",
       "    .dataframe tbody tr th:only-of-type {\n",
       "        vertical-align: middle;\n",
       "    }\n",
       "\n",
       "    .dataframe tbody tr th {\n",
       "        vertical-align: top;\n",
       "    }\n",
       "\n",
       "    .dataframe thead th {\n",
       "        text-align: right;\n",
       "    }\n",
       "</style>\n",
       "<table border=\"1\" class=\"dataframe\">\n",
       "  <thead>\n",
       "    <tr style=\"text-align: right;\">\n",
       "      <th></th>\n",
       "      <th>Unnamed: 0</th>\n",
       "      <th>YearsExperience</th>\n",
       "      <th>Salary</th>\n",
       "    </tr>\n",
       "  </thead>\n",
       "  <tbody>\n",
       "    <tr>\n",
       "      <th>0</th>\n",
       "      <td>0</td>\n",
       "      <td>1.2</td>\n",
       "      <td>39344.0</td>\n",
       "    </tr>\n",
       "    <tr>\n",
       "      <th>1</th>\n",
       "      <td>1</td>\n",
       "      <td>1.4</td>\n",
       "      <td>46206.0</td>\n",
       "    </tr>\n",
       "    <tr>\n",
       "      <th>2</th>\n",
       "      <td>2</td>\n",
       "      <td>1.6</td>\n",
       "      <td>37732.0</td>\n",
       "    </tr>\n",
       "    <tr>\n",
       "      <th>3</th>\n",
       "      <td>3</td>\n",
       "      <td>2.1</td>\n",
       "      <td>43526.0</td>\n",
       "    </tr>\n",
       "    <tr>\n",
       "      <th>4</th>\n",
       "      <td>4</td>\n",
       "      <td>2.3</td>\n",
       "      <td>39892.0</td>\n",
       "    </tr>\n",
       "  </tbody>\n",
       "</table>\n",
       "</div>"
      ],
      "text/plain": [
       "   Unnamed: 0  YearsExperience   Salary\n",
       "0           0              1.2  39344.0\n",
       "1           1              1.4  46206.0\n",
       "2           2              1.6  37732.0\n",
       "3           3              2.1  43526.0\n",
       "4           4              2.3  39892.0"
      ]
     },
     "execution_count": 2,
     "metadata": {},
     "output_type": "execute_result"
    }
   ],
   "source": [
    "df=pd.read_csv(\"Salary_dataset.csv\") # --> Read The dataset\n",
    "df.head()                            # --> To display The dataset"
   ]
  },
  {
   "cell_type": "markdown",
   "id": "89dc46b2",
   "metadata": {},
   "source": [
    "## 3- Cleaning The Dataset"
   ]
  },
  {
   "cell_type": "code",
   "execution_count": 3,
   "id": "be369051",
   "metadata": {},
   "outputs": [
    {
     "data": {
      "text/plain": [
       "Index(['Unnamed: 0', 'YearsExperience', 'Salary'], dtype='object')"
      ]
     },
     "execution_count": 3,
     "metadata": {},
     "output_type": "execute_result"
    }
   ],
   "source": [
    "df.columns              # --> To Display Name of Features"
   ]
  },
  {
   "cell_type": "code",
   "execution_count": 4,
   "id": "e8d8b24c",
   "metadata": {},
   "outputs": [
    {
     "name": "stdout",
     "output_type": "stream",
     "text": [
      "<class 'pandas.core.frame.DataFrame'>\n",
      "RangeIndex: 30 entries, 0 to 29\n",
      "Data columns (total 3 columns):\n",
      " #   Column           Non-Null Count  Dtype  \n",
      "---  ------           --------------  -----  \n",
      " 0   Unnamed: 0       30 non-null     int64  \n",
      " 1   YearsExperience  30 non-null     float64\n",
      " 2   Salary           30 non-null     float64\n",
      "dtypes: float64(2), int64(1)\n",
      "memory usage: 848.0 bytes\n"
     ]
    }
   ],
   "source": [
    "df.info()              # --> To Get All Informations of Dataset"
   ]
  },
  {
   "cell_type": "code",
   "execution_count": 5,
   "id": "526a9c56",
   "metadata": {},
   "outputs": [
    {
     "data": {
      "text/html": [
       "<div>\n",
       "<style scoped>\n",
       "    .dataframe tbody tr th:only-of-type {\n",
       "        vertical-align: middle;\n",
       "    }\n",
       "\n",
       "    .dataframe tbody tr th {\n",
       "        vertical-align: top;\n",
       "    }\n",
       "\n",
       "    .dataframe thead th {\n",
       "        text-align: right;\n",
       "    }\n",
       "</style>\n",
       "<table border=\"1\" class=\"dataframe\">\n",
       "  <thead>\n",
       "    <tr style=\"text-align: right;\">\n",
       "      <th></th>\n",
       "      <th>Unnamed: 0</th>\n",
       "      <th>YearsExperience</th>\n",
       "      <th>Salary</th>\n",
       "    </tr>\n",
       "  </thead>\n",
       "  <tbody>\n",
       "    <tr>\n",
       "      <th>count</th>\n",
       "      <td>30.000000</td>\n",
       "      <td>30.000000</td>\n",
       "      <td>30.000000</td>\n",
       "    </tr>\n",
       "    <tr>\n",
       "      <th>mean</th>\n",
       "      <td>14.500000</td>\n",
       "      <td>5.413333</td>\n",
       "      <td>76004.000000</td>\n",
       "    </tr>\n",
       "    <tr>\n",
       "      <th>std</th>\n",
       "      <td>8.803408</td>\n",
       "      <td>2.837888</td>\n",
       "      <td>27414.429785</td>\n",
       "    </tr>\n",
       "    <tr>\n",
       "      <th>min</th>\n",
       "      <td>0.000000</td>\n",
       "      <td>1.200000</td>\n",
       "      <td>37732.000000</td>\n",
       "    </tr>\n",
       "    <tr>\n",
       "      <th>25%</th>\n",
       "      <td>7.250000</td>\n",
       "      <td>3.300000</td>\n",
       "      <td>56721.750000</td>\n",
       "    </tr>\n",
       "    <tr>\n",
       "      <th>50%</th>\n",
       "      <td>14.500000</td>\n",
       "      <td>4.800000</td>\n",
       "      <td>65238.000000</td>\n",
       "    </tr>\n",
       "    <tr>\n",
       "      <th>75%</th>\n",
       "      <td>21.750000</td>\n",
       "      <td>7.800000</td>\n",
       "      <td>100545.750000</td>\n",
       "    </tr>\n",
       "    <tr>\n",
       "      <th>max</th>\n",
       "      <td>29.000000</td>\n",
       "      <td>10.600000</td>\n",
       "      <td>122392.000000</td>\n",
       "    </tr>\n",
       "  </tbody>\n",
       "</table>\n",
       "</div>"
      ],
      "text/plain": [
       "       Unnamed: 0  YearsExperience         Salary\n",
       "count   30.000000        30.000000      30.000000\n",
       "mean    14.500000         5.413333   76004.000000\n",
       "std      8.803408         2.837888   27414.429785\n",
       "min      0.000000         1.200000   37732.000000\n",
       "25%      7.250000         3.300000   56721.750000\n",
       "50%     14.500000         4.800000   65238.000000\n",
       "75%     21.750000         7.800000  100545.750000\n",
       "max     29.000000        10.600000  122392.000000"
      ]
     },
     "execution_count": 5,
     "metadata": {},
     "output_type": "execute_result"
    }
   ],
   "source": [
    "df.describe()        # --> To Calculate \" count , mean , std , min , max  \" for each Coloumn"
   ]
  },
  {
   "cell_type": "code",
   "execution_count": 6,
   "id": "07e38787",
   "metadata": {},
   "outputs": [
    {
     "data": {
      "text/plain": [
       "Unnamed: 0         False\n",
       "YearsExperience    False\n",
       "Salary             False\n",
       "dtype: bool"
      ]
     },
     "execution_count": 6,
     "metadata": {},
     "output_type": "execute_result"
    }
   ],
   "source": [
    "df.isna().any()         # -->  To check any Nan value"
   ]
  },
  {
   "cell_type": "code",
   "execution_count": 7,
   "id": "2e282bca",
   "metadata": {},
   "outputs": [
    {
     "data": {
      "text/plain": [
       "Unnamed: 0         0\n",
       "YearsExperience    0\n",
       "Salary             0\n",
       "dtype: int64"
      ]
     },
     "execution_count": 7,
     "metadata": {},
     "output_type": "execute_result"
    }
   ],
   "source": [
    "df.isnull().sum()       # --> To check any Null values"
   ]
  },
  {
   "cell_type": "code",
   "execution_count": 8,
   "id": "4fe4dbe4",
   "metadata": {},
   "outputs": [
    {
     "data": {
      "text/plain": [
       "False"
      ]
     },
     "execution_count": 8,
     "metadata": {},
     "output_type": "execute_result"
    }
   ],
   "source": [
    "df.duplicated().any()  # --> To Check any duplicated values"
   ]
  },
  {
   "cell_type": "code",
   "execution_count": 9,
   "id": "0fdb6b53",
   "metadata": {},
   "outputs": [],
   "source": [
    "df.drop(['Unnamed: 0'],axis=1,inplace=True)  # --> To Delete The Coloumn from dataset"
   ]
  },
  {
   "cell_type": "markdown",
   "id": "5a12f36e",
   "metadata": {},
   "source": [
    "## 4- Solving The Problem Of Rescaling The DataSet"
   ]
  },
  {
   "cell_type": "markdown",
   "id": "634243a9",
   "metadata": {},
   "source": [
    "  By using StanderScaler"
   ]
  },
  {
   "cell_type": "markdown",
   "id": "7daf8a0e",
   "metadata": {},
   "source": [
    "The Law : x = (x-mean) /standred divation"
   ]
  },
  {
   "cell_type": "code",
   "execution_count": 10,
   "id": "fdff556c",
   "metadata": {},
   "outputs": [],
   "source": [
    "df.Salary = (df.Salary - df.Salary.mean()) / df.Salary.std() #  --> To Rescaling data in The Coloumn"
   ]
  },
  {
   "cell_type": "markdown",
   "id": "ef049a6e",
   "metadata": {},
   "source": [
    "## 5- Spliting The Dataset to Features and Samples"
   ]
  },
  {
   "cell_type": "code",
   "execution_count": 11,
   "id": "ed032aca",
   "metadata": {},
   "outputs": [],
   "source": [
    "df.insert(0, 'constant', 1)  # --> To add The Coloumn to dataset"
   ]
  },
  {
   "cell_type": "code",
   "execution_count": 12,
   "id": "04879026",
   "metadata": {},
   "outputs": [],
   "source": [
    "'''\n",
    "I added a new column with all values equal one because I can't use a single column for the x value .\n",
    "\n",
    "'''\n",
    "\n",
    "x=df.iloc[:,0 : 2].values         # --> To choose the values of x \n",
    "y=df.iloc[:,-1:np.newaxis].values #--> To choose the values of y"
   ]
  },
  {
   "cell_type": "code",
   "execution_count": 13,
   "id": "672ac4ea",
   "metadata": {},
   "outputs": [
    {
     "data": {
      "text/plain": [
       "(30, 2)"
      ]
     },
     "execution_count": 13,
     "metadata": {},
     "output_type": "execute_result"
    }
   ],
   "source": [
    "x.shape # --> To display The Shape of x"
   ]
  },
  {
   "cell_type": "code",
   "execution_count": 14,
   "id": "d1abe28c",
   "metadata": {},
   "outputs": [
    {
     "data": {
      "text/plain": [
       "(30, 1)"
      ]
     },
     "execution_count": 14,
     "metadata": {},
     "output_type": "execute_result"
    }
   ],
   "source": [
    "y.shape # --> To display The Shape of y"
   ]
  },
  {
   "cell_type": "markdown",
   "id": "a09c6fe0",
   "metadata": {},
   "source": [
    "##  6- Convert x,y,Theta From Frames To Numpy Matrix"
   ]
  },
  {
   "cell_type": "code",
   "execution_count": 15,
   "id": "5e1b35c1",
   "metadata": {},
   "outputs": [],
   "source": [
    "'''\n",
    "I will Convert x , y , Theta From Frames To  Matrixs to applying mathematical operations on her\n",
    "\n",
    "'''\n",
    "x=np.matrix(x)\n",
    "y=np.matrix(y)\n",
    "Theta=np.matrix(np.array([0,0]))"
   ]
  },
  {
   "cell_type": "markdown",
   "id": "4fd9d6b6",
   "metadata": {},
   "source": [
    "## 7- Bulid The Cost Function"
   ]
  },
  {
   "cell_type": "markdown",
   "id": "c2a7c762",
   "metadata": {},
   "source": [
    "The Law Of cost Function"
   ]
  },
  {
   "cell_type": "markdown",
   "id": "0c943406",
   "metadata": {},
   "source": [
    "J(θ)= 1/2 m ∑i pow ((h θ(x(i)) - y (i)) , 2)"
   ]
  },
  {
   "cell_type": "code",
   "execution_count": 16,
   "id": "4b85eaa9",
   "metadata": {},
   "outputs": [],
   "source": [
    "def cost_funtion(x,y,Theta):\n",
    "    \n",
    "    z = np.power(((x * Theta.T)- y),2)  # -->  Hypothesis 'h(x)' = (x * Theta.T )\n",
    "\n",
    "    return np.sum(z) / (2*len(x))       # -->  Number of Rows 'm' = len(x)   "
   ]
  },
  {
   "cell_type": "code",
   "execution_count": 17,
   "id": "54fd3c04",
   "metadata": {},
   "outputs": [
    {
     "name": "stdout",
     "output_type": "stream",
     "text": [
      " The Ratio of Error : 48.33 %\n"
     ]
    }
   ],
   "source": [
    "print(f\" The Ratio of Error : {cost_funtion(x,y,Theta) *100 :.2f} %\")"
   ]
  },
  {
   "cell_type": "markdown",
   "id": "9f91108c",
   "metadata": {},
   "source": [
    "## 8- Bulid The Gradient Descent"
   ]
  },
  {
   "cell_type": "markdown",
   "id": "974a36dd",
   "metadata": {},
   "source": [
    "θ New = θ old - alpha ( 1/m ∑i (h θ(x (i)) - y (i)) )"
   ]
  },
  {
   "cell_type": "markdown",
   "id": "f915b222",
   "metadata": {},
   "source": [
    "θ1 New = θ1 old - alpha ( 1/m ∑i (h θ(x (i)) - y (i)) * x1 )"
   ]
  },
  {
   "cell_type": "code",
   "execution_count": 18,
   "id": "d94e5c6c",
   "metadata": {},
   "outputs": [],
   "source": [
    "'''\n",
    "The Goal Of The Gradient Descent minimize The Ratio of Error \"cost_funtion\"\n",
    "\n",
    "'''\n",
    "\n",
    "\n",
    "def Gradient_descent(x,y,Theta,alpha,iters):\n",
    "    \n",
    "    \n",
    "    temp = np.matrix(np.zeros(Theta.shape))  # --> create temporary varaible has The same shape of Theta and initial values equal zero\n",
    "    parameter = int (Theta.ravel().shape[1]) # --> Create variable has The same number of Theta\n",
    "    cost=np.zeros(iters)                     # --> Create variable has The same number of Iterations\n",
    "    \n",
    "    \n",
    "    \n",
    "    for i in range(iters):    # --> for 0 To iters-1\n",
    "        \n",
    "        Error=(x*Theta.T) - y  # -->  Hypothesis 'h(x)' = (x * Theta.T ) \n",
    "        \n",
    "        \n",
    "        for j in range(parameter):  # --> for 0 To 1\n",
    "            \n",
    "            term=np.multiply(Error,x[:,j])   # --> Multiply \" (x*Theta.T) -y \" of value of x\n",
    "            \n",
    "            temp[0,j]=Theta[0,j] - (alpha / len(x))* np.sum(term)  # --> Calculate The New value of Theta\n",
    "            \n",
    "            \n",
    "        # --- updata The Theta ---\n",
    "        \n",
    "        Theta=temp\n",
    "        \n",
    "        # --- updata Cost Function ---\n",
    "        \n",
    "        cost[i] = cost_funtion(x,y,Theta)\n",
    "        \n",
    "    return Theta ,cost    "
   ]
  },
  {
   "cell_type": "markdown",
   "id": "8784d3ab",
   "metadata": {},
   "source": [
    "## 9- Initialize Varibles For Learning Rate and Iteraions"
   ]
  },
  {
   "cell_type": "code",
   "execution_count": 19,
   "id": "244adbfb",
   "metadata": {},
   "outputs": [],
   "source": [
    "alpha=0.01    # --> The Learning Rate\n",
    "iters=1500    # --> Number Of Iterations"
   ]
  },
  {
   "cell_type": "markdown",
   "id": "c98a02a5",
   "metadata": {},
   "source": [
    "## 10- Perform  Gradient Descent to fit Model Parameters"
   ]
  },
  {
   "cell_type": "code",
   "execution_count": 20,
   "id": "65786eda",
   "metadata": {},
   "outputs": [],
   "source": [
    "theta,cost=Gradient_descent(x,y,Theta,alpha,iters)"
   ]
  },
  {
   "cell_type": "code",
   "execution_count": 21,
   "id": "5edaf353",
   "metadata": {},
   "outputs": [
    {
     "name": "stdout",
     "output_type": "stream",
     "text": [
      " h(x) : -1.7802772607366943 + 0.33212380612484477 x1\n"
     ]
    }
   ],
   "source": [
    "print(f\" h(x) : {theta[0,0]} + {theta[0,1]} x1\") # --> To Display The Best values of Theta 0 , Theta 1"
   ]
  },
  {
   "cell_type": "code",
   "execution_count": 22,
   "id": "14fbe467",
   "metadata": {},
   "outputs": [
    {
     "name": "stdout",
     "output_type": "stream",
     "text": [
      "The Ratio Of Error After Gradient Descent : 8.05 %\n"
     ]
    }
   ],
   "source": [
    "print(f\"The Ratio Of Error After Gradient Descent : {cost.mean() *100 :.2f} %\")"
   ]
  },
  {
   "cell_type": "markdown",
   "id": "24487b67",
   "metadata": {},
   "source": [
    "## 11- Get The Best Fit Line"
   ]
  },
  {
   "cell_type": "code",
   "execution_count": 23,
   "id": "ca750ce1",
   "metadata": {},
   "outputs": [],
   "source": [
    "x=np.linspace(df.YearsExperience.min(),df.YearsExperience.max(),100) # --> To Give 100 values of x"
   ]
  },
  {
   "cell_type": "code",
   "execution_count": 24,
   "id": "f77ea18e",
   "metadata": {},
   "outputs": [],
   "source": [
    "h=theta[0,0] + (theta[0,1] *x) # --> To calculate Hypothesis for each raw"
   ]
  },
  {
   "cell_type": "markdown",
   "id": "fefb8f36",
   "metadata": {},
   "source": [
    "## 12- Draw The Best Fit line"
   ]
  },
  {
   "cell_type": "code",
   "execution_count": 25,
   "id": "02dc42e6",
   "metadata": {},
   "outputs": [
    {
     "data": {
      "image/png": "[encoded data removed]",
      "text/plain": [
       "<Figure size 640x480 with 1 Axes>"
      ]
     },
     "metadata": {},
     "output_type": "display_data"
    }
   ],
   "source": [
    "# --- style of colors ---\n",
    "plt.style.use(\"ggplot\")\n",
    "\n",
    "# --- To create Title ---\n",
    "plt.title(\"//* The Best Predicition *//\" ,\n",
    "          style=\"italic\",\n",
    "          color=\"k\" ,\n",
    "          bbox=dict(facecolor=\"moccasin\",edgecolor=\"sienna\",alpha=1))\n",
    "\n",
    "# --- To create x label ---\n",
    "plt.xlabel(\"YearsExperience\",\n",
    "           style=\"italic\",\n",
    "           color=\"k\" ,\n",
    "           bbox=dict(facecolor=\"moccasin\",edgecolor=\"sienna\",alpha=1))\n",
    "\n",
    "# --- To create y label ---\n",
    "plt.ylabel(\"Salary\",\n",
    "           style=\"italic\",\n",
    "           color=\"k\" ,\n",
    "           bbox=dict(facecolor=\"moccasin\",edgecolor=\"sienna\",alpha=1))\n",
    "\n",
    "# --- To create The Points ---\n",
    "plt.scatter(df.YearsExperience , df.Salary,\n",
    "            s=80,\n",
    "            c=\"chocolate\" ,\n",
    "            marker=\"h\",\n",
    "            alpha=1,\n",
    "            label=\"Training Data\")\n",
    "\n",
    "# --- To create The line ---\n",
    "plt.plot(x,h,\"*--\",color=\"olive\",linewidth=3,label=\"Predicition\")\n",
    "\n",
    "# --- To create Information Box ---\n",
    "plt.legend(loc=\"upper left\",\n",
    "           shadow=\"True\",\n",
    "           fancybox=True,\n",
    "           frameon=True,\n",
    "           framealpha=0.8,\n",
    "           title=None,\n",
    "           facecolor=\"w\",\n",
    "           edgecolor=\"sienna\")\n",
    "\n",
    "# --- To Display Graph ---\n",
    "\n",
    "plt.show()"
   ]
  },
  {
   "cell_type": "markdown",
   "id": "94831367",
   "metadata": {},
   "source": [
    "## 13- Draw Error Graph\n"
   ]
  },
  {
   "cell_type": "code",
   "execution_count": 26,
   "id": "1c10b985",
   "metadata": {},
   "outputs": [
    {
     "data": {
      "image/png": "[encoded data removed]",
      "text/plain": [
       "<Figure size 640x480 with 1 Axes>"
      ]
     },
     "metadata": {},
     "output_type": "display_data"
    }
   ],
   "source": [
    "# --- To create Title ---\n",
    "plt.title(\"//* Error v/s Iterations *//\" ,\n",
    "          style=\"italic\",\n",
    "          color=\"k\" ,\n",
    "          bbox=dict(facecolor=\"greenyellow\",edgecolor=\"violet\",alpha=0.8))\n",
    "\n",
    "# --- To create x label ---\n",
    "plt.xlabel(\"Number of Iterations\",\n",
    "           style=\"italic\",\n",
    "           color=\"k\" ,\n",
    "           bbox=dict(facecolor=\"greenyellow\",edgecolor=\"violet\",alpha=0.8))\n",
    "\n",
    "# --- To create y label ---\n",
    "plt.ylabel(\"Ratio of Error\",\n",
    "           style=\"italic\",\n",
    "           color=\"k\" ,\n",
    "           bbox=dict(facecolor=\"greenyellow\",edgecolor=\"violet\",alpha=0.8))\n",
    "\n",
    "# --- To create The line ---\n",
    "plt.plot(np.arange(iters),cost ,\"--\",linewidth=3,color=\"purple\",label=\"show\")\n",
    "\n",
    "# --- To create Annotation on graph ---\n",
    "plt.annotate(\"At 800 iteration .The Error Rate decreases by a small percentage\",\n",
    "             color=\"navy\",\n",
    "             xy=(800,0.04),\n",
    "             xytext=(250,0.22),\n",
    "             arrowprops=dict(shrink=3,facecolor=\"maroon\",edgecolor=\"greenyellow\"))\n",
    "\n",
    "# --- To Display Graph ---\n",
    "plt.show()"
   ]
  },
  {
   "cell_type": "code",
   "execution_count": null,
   "id": "937ba48c",
   "metadata": {},
   "outputs": [],
   "source": []
  },
  {
   "cell_type": "code",
   "execution_count": null,
   "id": "7d058088",
   "metadata": {},
   "outputs": [],
   "source": []
  }
 ],
 "metadata": {
  "kernelspec": {
   "display_name": "Python 3 (ipykernel)",
   "language": "python",
   "name": "python3"
  },
  "language_info": {
   "codemirror_mode": {
    "name": "ipython",
    "version": 3
   },
   "file_extension": ".py",
   "mimetype": "text/x-python",
   "name": "python",
   "nbconvert_exporter": "python",
   "pygments_lexer": "ipython3",
   "version": "3.10.9"
  }
 },
 "nbformat": 4,
 "nbformat_minor": 5
}
